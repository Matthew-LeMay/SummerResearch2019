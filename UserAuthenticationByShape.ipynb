{
 "cells": [
  {
   "cell_type": "markdown",
   "metadata": {},
   "source": [
    "All the functions we will use are in the file FeatureExtraction.py, which we import here."
   ]
  },
  {
   "cell_type": "code",
   "execution_count": 36,
   "metadata": {
    "collapsed": true
   },
   "outputs": [],
   "source": [
    "run FeatureExtraction.py"
   ]
  },
  {
   "cell_type": "markdown",
   "metadata": {},
   "source": [
    "We also import a library for displaying images."
   ]
  },
  {
   "cell_type": "code",
   "execution_count": 3,
   "metadata": {
    "collapsed": true
   },
   "outputs": [],
   "source": [
    "from IPython.display import Image, display"
   ]
  },
  {
   "cell_type": "markdown",
   "metadata": {},
   "source": [
    "To keep the computation within a reasonable time frame, we will choose a random subset of ten users to deal with:"
   ]
  },
  {
   "cell_type": "code",
   "execution_count": 38,
   "metadata": {},
   "outputs": [
    {
     "name": "stdout",
     "output_type": "stream",
     "text": [
      "['827212', '366286', '808022', '431312', '527796', '865501', '986737']\n"
     ]
    }
   ],
   "source": [
    "#Feel free to vary this parameter\n",
    "sample_size = 7\n",
    "\n",
    "#User 733162 has a file missing, so we make sure not to select that user\n",
    "potential_users = list(filter(lambda x: x != '733162', get_user_ids()))\n",
    "user_list = random.sample(potential_users, sample_size)\n",
    "print(user_list)"
   ]
  },
  {
   "cell_type": "markdown",
   "metadata": {},
   "source": [
    "First we need to choose which task to focus on (such as Reading and Sitting or Map and Walking), what kind of touch event to focus on (the options being Touch, KeyPress, OneFingerTouch, Pinch, Scroll, and Stroke), and which reading value to focus on (such as accelerometer Z data or gyroscope X data)."
   ]
  },
  {
   "cell_type": "code",
   "execution_count": 5,
   "metadata": {
    "collapsed": true
   },
   "outputs": [],
   "source": [
    "#These parameters can also be varied freely\n",
    "task_name = 'Writing+Walking'\n",
    "tap_feature_name = 'KeyPress'\n",
    "reading_value = 'gyroY'"
   ]
  },
  {
   "cell_type": "markdown",
   "metadata": {},
   "source": [
    "We first create histograms that represent each of our users for this combination of task name, tap feature, and reading value, and write the frequencies of these histograms to csv files. This may take several minutes to run. It will print what user and session it is working on as it goes, and \"Finished!\" when it is done."
   ]
  },
  {
   "cell_type": "code",
   "execution_count": 12,
   "metadata": {},
   "outputs": [
    {
     "name": "stdout",
     "output_type": "stream",
     "text": [
      "Investigating user: 389015\n",
      "Session: 389015_session_10\n",
      "Session: 389015_session_2\n",
      "Session: 389015_session_3\n",
      "Session: 389015_session_7\n",
      "Investigating user: 693572\n",
      "Session: 693572_session_20\n",
      "Session: 693572_session_22\n",
      "Session: 693572_session_4\n",
      "Session: 693572_session_9\n",
      "Investigating user: 876011\n",
      "Session: 876011_session_16\n",
      "Session: 876011_session_18\n",
      "Session: 876011_session_21\n",
      "Session: 876011_session_4\n",
      "Investigating user: 220962\n",
      "Session: 220962_session_11\n",
      "Session: 220962_session_15\n",
      "Session: 220962_session_6\n",
      "Session: 220962_session_8\n",
      "Investigating user: 554303\n",
      "Session: 554303_session_12\n",
      "Session: 554303_session_3\n",
      "Session: 554303_session_4\n",
      "Session: 554303_session_7\n",
      "Investigating user: 803262\n",
      "Session: 803262_session_17\n",
      "Session: 803262_session_18\n",
      "Session: 803262_session_19\n",
      "Session: 803262_session_20\n",
      "Investigating user: 990622\n",
      "Session: 990622_session_12\n",
      "Session: 990622_session_19\n",
      "Session: 990622_session_24\n",
      "Session: 990622_session_8\n",
      "Investigating user: 527796\n",
      "Session: 527796_session_17\n",
      "Session: 527796_session_18\n",
      "Session: 527796_session_2\n",
      "Session: 527796_session_3\n",
      "Investigating user: 501973\n",
      "Session: 501973_session_10\n",
      "Session: 501973_session_13\n",
      "Session: 501973_session_16\n",
      "Session: 501973_session_7\n",
      "Investigating user: 737973\n",
      "Session: 737973_session_1\n",
      "Session: 737973_session_12\n",
      "Session: 737973_session_14\n",
      "Session: 737973_session_17\n",
      "Finished!\n"
     ]
    }
   ],
   "source": [
    "write_shape_csv_for_each_user(task_name, tap_feature_name, reading_value, \\\n",
    "                              list_of_users = user_list, histograms = True, path = 'Notebook/')"
   ]
  },
  {
   "cell_type": "markdown",
   "metadata": {},
   "source": [
    "We now have histograms for each user session, along with csv files that have the normalized frequency (between 0 and 1) of each cell. Let's see what they look like."
   ]
  },
  {
   "cell_type": "code",
   "execution_count": 26,
   "metadata": {},
   "outputs": [
    {
     "name": "stdout",
     "output_type": "stream",
     "text": [
      "Plot for 220962_session_6, Writing+Walking, KeyPress, gyroY:\n"
     ]
    },
    {
     "data": {
      "image/png": "[encoded data removed]",
      "text/plain": [
       "<IPython.core.display.Image object>"
      ]
     },
     "metadata": {},
     "output_type": "display_data"
    },
    {
     "name": "stdout",
     "output_type": "stream",
     "text": [
      "Corresponding data in csv (first few rows out of 1600):\n"
     ]
    },
    {
     "data": {
      "text/plain": [
       "0    0.000000\n",
       "1    0.000000\n",
       "2    0.000000\n",
       "3    0.000000\n",
       "4    0.000066\n",
       "Name: Writing+Walking, gyroY, KeyPress, 220962_session_6, dtype: float64"
      ]
     },
     "execution_count": 26,
     "metadata": {},
     "output_type": "execute_result"
    }
   ],
   "source": [
    "#If you want to see a specific user and session, just change these two values\n",
    "user = random.choice(user_list)\n",
    "session = random.choice(get_user_session_ids_for_task(user, task_name))\n",
    "\n",
    "def plot_hist(user, session):\n",
    "    print('Plot for ' + session + ', ' + task_name + ', ' + tap_feature_name + ', ' + reading_value + ':')\n",
    "    display(Image(filename='Notebook/'+user+'/'+task_name+\\\n",
    "                  '/'+session+'/'+tap_feature_name+'/HullPlot_'+reading_value+'.png'))\n",
    "\n",
    "plot_hist(user, session)\n",
    "\n",
    "print('Corresponding data in csv (first few rows out of 1600):')\n",
    "data = pd.read_csv('Notebook/'+user+'/ShapeVectors.csv')\n",
    "col = data[task_name + ', ' + reading_value + ', ' + tap_feature_name + ', ' + session]\n",
    "col.head(5)"
   ]
  },
  {
   "cell_type": "markdown",
   "metadata": {},
   "source": [
    "As a first attempt, we will use a simple linear distance metric to evaluate the distance between users. That is, we will treat each $40 \\times 40$ grid of frequencies as a vector in $\\mathbb{R}^{1600}$, and take the Euclidean distance between them. This code below will evaluate the distance between each pair of sessions, and compare the mean and standard deviation for distances between sessions from the same user, to the mean and standard deviation for distances between sessions from different users:"
   ]
  },
  {
   "cell_type": "code",
   "execution_count": 23,
   "metadata": {},
   "outputs": [
    {
     "name": "stdout",
     "output_type": "stream",
     "text": [
      "Comparing 389015_session_10 to other sessions\n",
      "Comparing 389015_session_2 to other sessions\n",
      "Comparing 389015_session_3 to other sessions\n",
      "Comparing 389015_session_7 to other sessions\n",
      "Comparing 693572_session_20 to other sessions\n",
      "Comparing 693572_session_22 to other sessions\n",
      "Comparing 693572_session_4 to other sessions\n",
      "Comparing 693572_session_9 to other sessions\n",
      "Comparing 876011_session_16 to other sessions\n",
      "Comparing 876011_session_18 to other sessions\n",
      "Comparing 876011_session_21 to other sessions\n",
      "Comparing 876011_session_4 to other sessions\n",
      "Comparing 220962_session_11 to other sessions\n",
      "Comparing 220962_session_15 to other sessions\n",
      "Comparing 220962_session_6 to other sessions\n",
      "Comparing 220962_session_8 to other sessions\n",
      "Comparing 554303_session_12 to other sessions\n",
      "Comparing 554303_session_3 to other sessions\n",
      "Comparing 554303_session_4 to other sessions\n",
      "Comparing 554303_session_7 to other sessions\n",
      "Comparing 803262_session_17 to other sessions\n",
      "Comparing 803262_session_18 to other sessions\n",
      "Comparing 803262_session_19 to other sessions\n",
      "Comparing 803262_session_20 to other sessions\n",
      "Comparing 990622_session_12 to other sessions\n",
      "Comparing 990622_session_19 to other sessions\n",
      "Comparing 990622_session_24 to other sessions\n",
      "Comparing 990622_session_8 to other sessions\n",
      "Comparing 527796_session_17 to other sessions\n",
      "Comparing 527796_session_18 to other sessions\n",
      "Comparing 527796_session_2 to other sessions\n",
      "Comparing 527796_session_3 to other sessions\n",
      "Comparing 501973_session_10 to other sessions\n",
      "Comparing 501973_session_13 to other sessions\n",
      "Comparing 501973_session_16 to other sessions\n",
      "Comparing 501973_session_7 to other sessions\n",
      "Comparing 737973_session_1 to other sessions\n",
      "Comparing 737973_session_12 to other sessions\n",
      "Comparing 737973_session_14 to other sessions\n",
      "Comparing 737973_session_17 to other sessions\n",
      "Average for the same user:\n",
      "0.0174084140186\n",
      "Standard deviation for the same user:\n",
      "0.006592366455622137\n",
      "Average for different users:\n",
      "0.0346625356074\n",
      "Standard deviation for different users:\n",
      "0.012278852551999661\n"
     ]
    }
   ],
   "source": [
    "find_distances(task_name, tap_feature_name, reading_value, list_of_users = user_list)"
   ]
  },
  {
   "cell_type": "markdown",
   "metadata": {},
   "source": [
    "This code block will use the first two sessions for each user (out of the four corresponding to the given task) as training data, and attempt to classify the remaining sessions by which user they belong to, based on which other session data is the closest."
   ]
  },
  {
   "cell_type": "code",
   "execution_count": 19,
   "metadata": {
    "scrolled": true
   },
   "outputs": [
    {
     "name": "stdout",
     "output_type": "stream",
     "text": [
      "Number of attempted identifications: 20\n",
      "Number of successful identifications: 16\n",
      "Success rate: 0.8\n",
      "Unsuccessful classifications:\n",
      "The nearest neighbor of 693572_session_4 was 737973_session_12\n",
      "The nearest neighbor of 876011_session_21 was 737973_session_12\n",
      "The nearest neighbor of 220962_session_6 was 737973_session_12\n",
      "The nearest neighbor of 220962_session_8 was 737973_session_12\n"
     ]
    }
   ],
   "source": [
    "test_user_identification(task_name, tap_feature_name, reading_value, user_list)"
   ]
  },
  {
   "cell_type": "markdown",
   "metadata": {},
   "source": [
    "This below will combine data from every possible combination of tap event type and reading to better determine whether two sets of session data came from the same user."
   ]
  },
  {
   "cell_type": "code",
   "execution_count": 39,
   "metadata": {},
   "outputs": [
    {
     "name": "stdout",
     "output_type": "stream",
     "text": [
      "Building a threshold dictionary...\n",
      "Touch\n",
      "accelX\n",
      "Comparing 827212_session_1 to other sessions\n",
      "Comparing 827212_session_16 to other sessions\n",
      "Comparing 366286_session_14 to other sessions\n",
      "Comparing 366286_session_19 to other sessions\n",
      "Comparing 808022_session_15 to other sessions\n",
      "Comparing 808022_session_18 to other sessions\n",
      "Comparing 431312_session_12 to other sessions\n",
      "Comparing 431312_session_20 to other sessions\n",
      "Comparing 527796_session_17 to other sessions\n",
      "Comparing 527796_session_18 to other sessions\n",
      "Comparing 865501_session_15 to other sessions\n",
      "Comparing 865501_session_22 to other sessions\n",
      "Comparing 986737_session_10 to other sessions\n",
      "Comparing 986737_session_17 to other sessions\n",
      "accelY\n",
      "Comparing 827212_session_1 to other sessions\n",
      "Comparing 827212_session_16 to other sessions\n",
      "Comparing 366286_session_14 to other sessions\n",
      "Comparing 366286_session_19 to other sessions\n",
      "Comparing 808022_session_15 to other sessions\n",
      "Comparing 808022_session_18 to other sessions\n",
      "Comparing 431312_session_12 to other sessions\n",
      "Comparing 431312_session_20 to other sessions\n",
      "Comparing 527796_session_17 to other sessions\n",
      "Comparing 527796_session_18 to other sessions\n",
      "Comparing 865501_session_15 to other sessions\n",
      "Comparing 865501_session_22 to other sessions\n",
      "Comparing 986737_session_10 to other sessions\n",
      "Comparing 986737_session_17 to other sessions\n",
      "accelZ\n",
      "Comparing 827212_session_1 to other sessions\n",
      "Comparing 827212_session_16 to other sessions\n",
      "Comparing 366286_session_14 to other sessions\n",
      "Comparing 366286_session_19 to other sessions\n",
      "Comparing 808022_session_15 to other sessions\n",
      "Comparing 808022_session_18 to other sessions\n",
      "Comparing 431312_session_12 to other sessions\n",
      "Comparing 431312_session_20 to other sessions\n",
      "Comparing 527796_session_17 to other sessions\n",
      "Comparing 527796_session_18 to other sessions\n",
      "Comparing 865501_session_15 to other sessions\n",
      "Comparing 865501_session_22 to other sessions\n",
      "Comparing 986737_session_10 to other sessions\n",
      "Comparing 986737_session_17 to other sessions\n",
      "gyroX\n",
      "Comparing 827212_session_1 to other sessions\n",
      "Comparing 827212_session_16 to other sessions\n",
      "Comparing 366286_session_14 to other sessions\n",
      "Comparing 366286_session_19 to other sessions\n",
      "Comparing 808022_session_15 to other sessions\n",
      "Comparing 808022_session_18 to other sessions\n",
      "Comparing 431312_session_12 to other sessions\n",
      "Comparing 431312_session_20 to other sessions\n",
      "Comparing 527796_session_17 to other sessions\n",
      "Comparing 527796_session_18 to other sessions\n",
      "Comparing 865501_session_15 to other sessions\n",
      "Comparing 865501_session_22 to other sessions\n",
      "Comparing 986737_session_10 to other sessions\n",
      "Comparing 986737_session_17 to other sessions\n",
      "gyroY\n",
      "Comparing 827212_session_1 to other sessions\n",
      "Comparing 827212_session_16 to other sessions\n",
      "Comparing 366286_session_14 to other sessions\n",
      "Comparing 366286_session_19 to other sessions\n",
      "Comparing 808022_session_15 to other sessions\n",
      "Comparing 808022_session_18 to other sessions\n",
      "Comparing 431312_session_12 to other sessions\n",
      "Comparing 431312_session_20 to other sessions\n",
      "Comparing 527796_session_17 to other sessions\n",
      "Comparing 527796_session_18 to other sessions\n",
      "Comparing 865501_session_15 to other sessions\n",
      "Comparing 865501_session_22 to other sessions\n",
      "Comparing 986737_session_10 to other sessions\n",
      "Comparing 986737_session_17 to other sessions\n",
      "gyroZ\n",
      "Comparing 827212_session_1 to other sessions\n",
      "Comparing 827212_session_16 to other sessions\n",
      "Comparing 366286_session_14 to other sessions\n",
      "Comparing 366286_session_19 to other sessions\n",
      "Comparing 808022_session_15 to other sessions\n",
      "Comparing 808022_session_18 to other sessions\n",
      "Comparing 431312_session_12 to other sessions\n",
      "Comparing 431312_session_20 to other sessions\n",
      "Comparing 527796_session_17 to other sessions\n",
      "Comparing 527796_session_18 to other sessions\n",
      "Comparing 865501_session_15 to other sessions\n",
      "Comparing 865501_session_22 to other sessions\n",
      "Comparing 986737_session_10 to other sessions\n",
      "Comparing 986737_session_17 to other sessions\n",
      "KeyPress\n",
      "accelX\n",
      "Comparing 827212_session_1 to other sessions\n",
      "Comparing 827212_session_16 to other sessions\n",
      "Comparing 366286_session_14 to other sessions\n",
      "Comparing 366286_session_19 to other sessions\n",
      "Comparing 808022_session_15 to other sessions\n",
      "Comparing 808022_session_18 to other sessions\n",
      "Comparing 431312_session_12 to other sessions\n",
      "Comparing 431312_session_20 to other sessions\n",
      "Comparing 527796_session_17 to other sessions\n",
      "Comparing 527796_session_18 to other sessions\n",
      "Comparing 865501_session_15 to other sessions\n",
      "Comparing 865501_session_22 to other sessions\n",
      "Comparing 986737_session_10 to other sessions\n",
      "Comparing 986737_session_17 to other sessions\n",
      "accelY\n",
      "Comparing 827212_session_1 to other sessions\n",
      "Comparing 827212_session_16 to other sessions\n",
      "Comparing 366286_session_14 to other sessions\n",
      "Comparing 366286_session_19 to other sessions\n",
      "Comparing 808022_session_15 to other sessions\n",
      "Comparing 808022_session_18 to other sessions\n",
      "Comparing 431312_session_12 to other sessions\n",
      "Comparing 431312_session_20 to other sessions\n",
      "Comparing 527796_session_17 to other sessions\n",
      "Comparing 527796_session_18 to other sessions\n",
      "Comparing 865501_session_15 to other sessions\n",
      "Comparing 865501_session_22 to other sessions\n",
      "Comparing 986737_session_10 to other sessions\n",
      "Comparing 986737_session_17 to other sessions\n",
      "accelZ\n",
      "Comparing 827212_session_1 to other sessions\n",
      "Comparing 827212_session_16 to other sessions\n",
      "Comparing 366286_session_14 to other sessions\n",
      "Comparing 366286_session_19 to other sessions\n",
      "Comparing 808022_session_15 to other sessions\n",
      "Comparing 808022_session_18 to other sessions\n",
      "Comparing 431312_session_12 to other sessions\n",
      "Comparing 431312_session_20 to other sessions\n",
      "Comparing 527796_session_17 to other sessions\n",
      "Comparing 527796_session_18 to other sessions\n",
      "Comparing 865501_session_15 to other sessions\n",
      "Comparing 865501_session_22 to other sessions\n",
      "Comparing 986737_session_10 to other sessions\n",
      "Comparing 986737_session_17 to other sessions\n",
      "gyroX\n",
      "Comparing 827212_session_1 to other sessions\n",
      "Comparing 827212_session_16 to other sessions\n",
      "Comparing 366286_session_14 to other sessions\n",
      "Comparing 366286_session_19 to other sessions\n",
      "Comparing 808022_session_15 to other sessions\n",
      "Comparing 808022_session_18 to other sessions\n",
      "Comparing 431312_session_12 to other sessions\n",
      "Comparing 431312_session_20 to other sessions\n",
      "Comparing 527796_session_17 to other sessions\n",
      "Comparing 527796_session_18 to other sessions\n",
      "Comparing 865501_session_15 to other sessions\n",
      "Comparing 865501_session_22 to other sessions\n",
      "Comparing 986737_session_10 to other sessions\n",
      "Comparing 986737_session_17 to other sessions\n",
      "gyroY\n",
      "Comparing 827212_session_1 to other sessions\n",
      "Comparing 827212_session_16 to other sessions\n",
      "Comparing 366286_session_14 to other sessions\n",
      "Comparing 366286_session_19 to other sessions\n",
      "Comparing 808022_session_15 to other sessions\n",
      "Comparing 808022_session_18 to other sessions\n",
      "Comparing 431312_session_12 to other sessions\n",
      "Comparing 431312_session_20 to other sessions\n",
      "Comparing 527796_session_17 to other sessions\n",
      "Comparing 527796_session_18 to other sessions\n",
      "Comparing 865501_session_15 to other sessions\n",
      "Comparing 865501_session_22 to other sessions\n",
      "Comparing 986737_session_10 to other sessions\n",
      "Comparing 986737_session_17 to other sessions\n",
      "gyroZ\n",
      "Comparing 827212_session_1 to other sessions\n",
      "Comparing 827212_session_16 to other sessions\n",
      "Comparing 366286_session_14 to other sessions\n",
      "Comparing 366286_session_19 to other sessions\n",
      "Comparing 808022_session_15 to other sessions\n",
      "Comparing 808022_session_18 to other sessions\n",
      "Comparing 431312_session_12 to other sessions\n",
      "Comparing 431312_session_20 to other sessions\n",
      "Comparing 527796_session_17 to other sessions\n",
      "Comparing 527796_session_18 to other sessions\n",
      "Comparing 865501_session_15 to other sessions\n",
      "Comparing 865501_session_22 to other sessions\n",
      "Comparing 986737_session_10 to other sessions\n",
      "Comparing 986737_session_17 to other sessions\n",
      "OneFingerTouch\n",
      "accelX\n",
      "Comparing 827212_session_1 to other sessions\n",
      "Comparing 827212_session_16 to other sessions\n",
      "Comparing 366286_session_14 to other sessions\n",
      "Comparing 366286_session_19 to other sessions\n",
      "Comparing 808022_session_15 to other sessions\n",
      "Comparing 808022_session_18 to other sessions\n",
      "Comparing 431312_session_12 to other sessions\n",
      "Comparing 431312_session_20 to other sessions\n"
     ]
    },
    {
     "name": "stdout",
     "output_type": "stream",
     "text": [
      "Comparing 527796_session_17 to other sessions\n",
      "Comparing 527796_session_18 to other sessions\n",
      "Comparing 865501_session_15 to other sessions\n",
      "Comparing 865501_session_22 to other sessions\n",
      "Comparing 986737_session_10 to other sessions\n",
      "Comparing 986737_session_17 to other sessions\n",
      "accelY\n",
      "Comparing 827212_session_1 to other sessions\n",
      "Comparing 827212_session_16 to other sessions\n",
      "Comparing 366286_session_14 to other sessions\n",
      "Comparing 366286_session_19 to other sessions\n",
      "Comparing 808022_session_15 to other sessions\n",
      "Comparing 808022_session_18 to other sessions\n",
      "Comparing 431312_session_12 to other sessions\n",
      "Comparing 431312_session_20 to other sessions\n",
      "Comparing 527796_session_17 to other sessions\n",
      "Comparing 527796_session_18 to other sessions\n",
      "Comparing 865501_session_15 to other sessions\n",
      "Comparing 865501_session_22 to other sessions\n",
      "Comparing 986737_session_10 to other sessions\n",
      "Comparing 986737_session_17 to other sessions\n",
      "accelZ\n",
      "Comparing 827212_session_1 to other sessions\n",
      "Comparing 827212_session_16 to other sessions\n",
      "Comparing 366286_session_14 to other sessions\n",
      "Comparing 366286_session_19 to other sessions\n",
      "Comparing 808022_session_15 to other sessions\n",
      "Comparing 808022_session_18 to other sessions\n",
      "Comparing 431312_session_12 to other sessions\n",
      "Comparing 431312_session_20 to other sessions\n",
      "Comparing 527796_session_17 to other sessions\n",
      "Comparing 527796_session_18 to other sessions\n",
      "Comparing 865501_session_15 to other sessions\n",
      "Comparing 865501_session_22 to other sessions\n",
      "Comparing 986737_session_10 to other sessions\n",
      "Comparing 986737_session_17 to other sessions\n",
      "gyroX\n",
      "Comparing 827212_session_1 to other sessions\n",
      "Comparing 827212_session_16 to other sessions\n",
      "Comparing 366286_session_14 to other sessions\n",
      "Comparing 366286_session_19 to other sessions\n",
      "Comparing 808022_session_15 to other sessions\n",
      "Comparing 808022_session_18 to other sessions\n",
      "Comparing 431312_session_12 to other sessions\n",
      "Comparing 431312_session_20 to other sessions\n",
      "Comparing 527796_session_17 to other sessions\n",
      "Comparing 527796_session_18 to other sessions\n",
      "Comparing 865501_session_15 to other sessions\n",
      "Comparing 865501_session_22 to other sessions\n",
      "Comparing 986737_session_10 to other sessions\n",
      "Comparing 986737_session_17 to other sessions\n",
      "gyroY\n",
      "Comparing 827212_session_1 to other sessions\n",
      "Comparing 827212_session_16 to other sessions\n",
      "Comparing 366286_session_14 to other sessions\n",
      "Comparing 366286_session_19 to other sessions\n",
      "Comparing 808022_session_15 to other sessions\n",
      "Comparing 808022_session_18 to other sessions\n",
      "Comparing 431312_session_12 to other sessions\n",
      "Comparing 431312_session_20 to other sessions\n",
      "Comparing 527796_session_17 to other sessions\n",
      "Comparing 527796_session_18 to other sessions\n",
      "Comparing 865501_session_15 to other sessions\n",
      "Comparing 865501_session_22 to other sessions\n",
      "Comparing 986737_session_10 to other sessions\n",
      "Comparing 986737_session_17 to other sessions\n",
      "gyroZ\n",
      "Comparing 827212_session_1 to other sessions\n",
      "Comparing 827212_session_16 to other sessions\n",
      "Comparing 366286_session_14 to other sessions\n",
      "Comparing 366286_session_19 to other sessions\n",
      "Comparing 808022_session_15 to other sessions\n",
      "Comparing 808022_session_18 to other sessions\n",
      "Comparing 431312_session_12 to other sessions\n",
      "Comparing 431312_session_20 to other sessions\n",
      "Comparing 527796_session_17 to other sessions\n",
      "Comparing 527796_session_18 to other sessions\n",
      "Comparing 865501_session_15 to other sessions\n",
      "Comparing 865501_session_22 to other sessions\n",
      "Comparing 986737_session_10 to other sessions\n",
      "Comparing 986737_session_17 to other sessions\n",
      "Pinch\n",
      "accelX\n",
      "Comparing 827212_session_1 to other sessions\n",
      "Unusable combination of tap feature and reading!\n",
      "accelY\n",
      "Comparing 827212_session_1 to other sessions\n",
      "Unusable combination of tap feature and reading!\n",
      "accelZ\n",
      "Comparing 827212_session_1 to other sessions\n",
      "Unusable combination of tap feature and reading!\n",
      "gyroX\n",
      "Comparing 827212_session_1 to other sessions\n",
      "Unusable combination of tap feature and reading!\n",
      "gyroY\n",
      "Comparing 827212_session_1 to other sessions\n",
      "Unusable combination of tap feature and reading!\n",
      "gyroZ\n",
      "Comparing 827212_session_1 to other sessions\n",
      "Unusable combination of tap feature and reading!\n",
      "Scroll\n",
      "accelX\n",
      "Comparing 827212_session_1 to other sessions\n",
      "Comparing 827212_session_16 to other sessions\n",
      "Comparing 366286_session_14 to other sessions\n",
      "Unusable combination of tap feature and reading!\n",
      "accelY\n",
      "Comparing 827212_session_1 to other sessions\n",
      "Comparing 827212_session_16 to other sessions\n",
      "Comparing 366286_session_14 to other sessions\n",
      "Unusable combination of tap feature and reading!\n",
      "accelZ\n",
      "Comparing 827212_session_1 to other sessions\n",
      "Comparing 827212_session_16 to other sessions\n",
      "Comparing 366286_session_14 to other sessions\n",
      "Unusable combination of tap feature and reading!\n",
      "gyroX\n",
      "Comparing 827212_session_1 to other sessions\n",
      "Comparing 827212_session_16 to other sessions\n",
      "Comparing 366286_session_14 to other sessions\n",
      "Unusable combination of tap feature and reading!\n",
      "gyroY\n",
      "Comparing 827212_session_1 to other sessions\n",
      "Comparing 827212_session_16 to other sessions\n",
      "Comparing 366286_session_14 to other sessions\n",
      "Unusable combination of tap feature and reading!\n",
      "gyroZ\n",
      "Comparing 827212_session_1 to other sessions\n",
      "Comparing 827212_session_16 to other sessions\n",
      "Comparing 366286_session_14 to other sessions\n",
      "Unusable combination of tap feature and reading!\n",
      "Stroke\n",
      "accelX\n",
      "Comparing 827212_session_1 to other sessions\n",
      "Comparing 827212_session_16 to other sessions\n",
      "Comparing 366286_session_14 to other sessions\n",
      "Unusable combination of tap feature and reading!\n",
      "accelY\n",
      "Comparing 827212_session_1 to other sessions\n",
      "Comparing 827212_session_16 to other sessions\n",
      "Comparing 366286_session_14 to other sessions\n",
      "Unusable combination of tap feature and reading!\n",
      "accelZ\n",
      "Comparing 827212_session_1 to other sessions\n",
      "Comparing 827212_session_16 to other sessions\n",
      "Comparing 366286_session_14 to other sessions\n",
      "Unusable combination of tap feature and reading!\n",
      "gyroX\n",
      "Comparing 827212_session_1 to other sessions\n",
      "Comparing 827212_session_16 to other sessions\n",
      "Comparing 366286_session_14 to other sessions\n",
      "Unusable combination of tap feature and reading!\n",
      "gyroY\n",
      "Comparing 827212_session_1 to other sessions\n",
      "Comparing 827212_session_16 to other sessions\n",
      "Comparing 366286_session_14 to other sessions\n",
      "Unusable combination of tap feature and reading!\n",
      "gyroZ\n",
      "Comparing 827212_session_1 to other sessions\n",
      "Comparing 827212_session_16 to other sessions\n",
      "Comparing 366286_session_14 to other sessions\n",
      "Unusable combination of tap feature and reading!\n",
      "Threshold dictionary complete!\n",
      "Number of attempted identifications: 91\n",
      "Number of successful identifications: 82\n",
      "Success rate: 0.9010989010989011\n",
      "Unsuccessful classifications:\n",
      "366286_session_6 986737_session_2 were misclassified.\n",
      "366286_session_6 986737_session_8 were misclassified.\n",
      "431312_session_21 431312_session_3 were misclassified.\n",
      "431312_session_3 808022_session_19 were misclassified.\n",
      "431312_session_3 808022_session_21 were misclassified.\n",
      "431312_session_3 527796_session_3 were misclassified.\n",
      "527796_session_2 808022_session_19 were misclassified.\n",
      "527796_session_3 808022_session_19 were misclassified.\n",
      "865501_session_4 865501_session_8 were misclassified.\n"
     ]
    }
   ],
   "source": [
    "test_identification(task_name, user_list)"
   ]
  },
  {
   "cell_type": "code",
   "execution_count": null,
   "metadata": {
    "collapsed": true
   },
   "outputs": [],
   "source": []
  }
 ],
 "metadata": {
  "kernelspec": {
   "display_name": "Python 3",
   "language": "python",
   "name": "python3"
  },
  "language_info": {
   "codemirror_mode": {
    "name": "ipython",
    "version": 3
   },
   "file_extension": ".py",
   "mimetype": "text/x-python",
   "name": "python",
   "nbconvert_exporter": "python",
   "pygments_lexer": "ipython3",
   "version": "3.6.1"
  }
 },
 "nbformat": 4,
 "nbformat_minor": 2
}
